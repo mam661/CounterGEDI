{
  "nbformat": 4,
  "nbformat_minor": 0,
  "metadata": {
    "colab": {
      "provenance": [],
      "authorship_tag": "ABX9TyODMR564X/tvrHY1htdYeCA",
      "include_colab_link": true
    },
    "kernelspec": {
      "name": "python3",
      "display_name": "Python 3"
    },
    "language_info": {
      "name": "python"
    }
  },
  "cells": [
    {
      "cell_type": "markdown",
      "metadata": {
        "id": "view-in-github",
        "colab_type": "text"
      },
      "source": [
        "<a href=\"https://colab.research.google.com/github/mam661/CounterGEDI/blob/master/manualKaplanMeier.ipynb\" target=\"_parent\"><img src=\"https://colab.research.google.com/assets/colab-badge.svg\" alt=\"Open In Colab\"/></a>"
      ]
    },
    {
      "cell_type": "code",
      "source": [
        "!pip install lifelines\n"
      ],
      "metadata": {
        "colab": {
          "base_uri": "https://localhost:8080/"
        },
        "collapsed": true,
        "id": "nZddAmv4qPXk",
        "outputId": "106867ee-ed3b-41db-facb-fd8d250ae6a8"
      },
      "execution_count": null,
      "outputs": [
        {
          "output_type": "stream",
          "name": "stdout",
          "text": [
            "Collecting lifelines\n",
            "  Downloading lifelines-0.29.0-py3-none-any.whl.metadata (3.2 kB)\n",
            "Requirement already satisfied: numpy<2.0,>=1.14.0 in /usr/local/lib/python3.10/dist-packages (from lifelines) (1.26.4)\n",
            "Requirement already satisfied: scipy>=1.7.0 in /usr/local/lib/python3.10/dist-packages (from lifelines) (1.13.1)\n",
            "Requirement already satisfied: pandas>=2.1 in /usr/local/lib/python3.10/dist-packages (from lifelines) (2.1.4)\n",
            "Requirement already satisfied: matplotlib>=3.0 in /usr/local/lib/python3.10/dist-packages (from lifelines) (3.7.1)\n",
            "Requirement already satisfied: autograd>=1.5 in /usr/local/lib/python3.10/dist-packages (from lifelines) (1.7.0)\n",
            "Collecting autograd-gamma>=0.3 (from lifelines)\n",
            "  Downloading autograd-gamma-0.5.0.tar.gz (4.0 kB)\n",
            "  Preparing metadata (setup.py) ... \u001b[?25l\u001b[?25hdone\n",
            "Collecting formulaic>=0.2.2 (from lifelines)\n",
            "  Downloading formulaic-1.0.2-py3-none-any.whl.metadata (6.8 kB)\n",
            "Collecting interface-meta>=1.2.0 (from formulaic>=0.2.2->lifelines)\n",
            "  Downloading interface_meta-1.3.0-py3-none-any.whl.metadata (6.7 kB)\n",
            "Requirement already satisfied: typing-extensions>=4.2.0 in /usr/local/lib/python3.10/dist-packages (from formulaic>=0.2.2->lifelines) (4.12.2)\n",
            "Requirement already satisfied: wrapt>=1.0 in /usr/local/lib/python3.10/dist-packages (from formulaic>=0.2.2->lifelines) (1.16.0)\n",
            "Requirement already satisfied: contourpy>=1.0.1 in /usr/local/lib/python3.10/dist-packages (from matplotlib>=3.0->lifelines) (1.2.1)\n",
            "Requirement already satisfied: cycler>=0.10 in /usr/local/lib/python3.10/dist-packages (from matplotlib>=3.0->lifelines) (0.12.1)\n",
            "Requirement already satisfied: fonttools>=4.22.0 in /usr/local/lib/python3.10/dist-packages (from matplotlib>=3.0->lifelines) (4.53.1)\n",
            "Requirement already satisfied: kiwisolver>=1.0.1 in /usr/local/lib/python3.10/dist-packages (from matplotlib>=3.0->lifelines) (1.4.5)\n",
            "Requirement already satisfied: packaging>=20.0 in /usr/local/lib/python3.10/dist-packages (from matplotlib>=3.0->lifelines) (24.1)\n",
            "Requirement already satisfied: pillow>=6.2.0 in /usr/local/lib/python3.10/dist-packages (from matplotlib>=3.0->lifelines) (9.4.0)\n",
            "Requirement already satisfied: pyparsing>=2.3.1 in /usr/local/lib/python3.10/dist-packages (from matplotlib>=3.0->lifelines) (3.1.4)\n",
            "Requirement already satisfied: python-dateutil>=2.7 in /usr/local/lib/python3.10/dist-packages (from matplotlib>=3.0->lifelines) (2.8.2)\n",
            "Requirement already satisfied: pytz>=2020.1 in /usr/local/lib/python3.10/dist-packages (from pandas>=2.1->lifelines) (2024.1)\n",
            "Requirement already satisfied: tzdata>=2022.1 in /usr/local/lib/python3.10/dist-packages (from pandas>=2.1->lifelines) (2024.1)\n",
            "Requirement already satisfied: six>=1.5 in /usr/local/lib/python3.10/dist-packages (from python-dateutil>=2.7->matplotlib>=3.0->lifelines) (1.16.0)\n",
            "Downloading lifelines-0.29.0-py3-none-any.whl (349 kB)\n",
            "\u001b[2K   \u001b[90m━━━━━━━━━━━━━━━━━━━━━━━━━━━━━━━━━━━━━━━━\u001b[0m \u001b[32m349.3/349.3 kB\u001b[0m \u001b[31m2.5 MB/s\u001b[0m eta \u001b[36m0:00:00\u001b[0m\n",
            "\u001b[?25hDownloading formulaic-1.0.2-py3-none-any.whl (94 kB)\n",
            "\u001b[2K   \u001b[90m━━━━━━━━━━━━━━━━━━━━━━━━━━━━━━━━━━━━━━━━\u001b[0m \u001b[32m94.5/94.5 kB\u001b[0m \u001b[31m6.0 MB/s\u001b[0m eta \u001b[36m0:00:00\u001b[0m\n",
            "\u001b[?25hDownloading interface_meta-1.3.0-py3-none-any.whl (14 kB)\n",
            "Building wheels for collected packages: autograd-gamma\n",
            "  Building wheel for autograd-gamma (setup.py) ... \u001b[?25l\u001b[?25hdone\n",
            "  Created wheel for autograd-gamma: filename=autograd_gamma-0.5.0-py3-none-any.whl size=4031 sha256=1e5b0f4eace3b8440e864319dedab9e388a598d80bc7d882a93928cfc27fd8a3\n",
            "  Stored in directory: /root/.cache/pip/wheels/25/cc/e0/ef2969164144c899fedb22b338f6703e2b9cf46eeebf254991\n",
            "Successfully built autograd-gamma\n",
            "Installing collected packages: interface-meta, autograd-gamma, formulaic, lifelines\n",
            "Successfully installed autograd-gamma-0.5.0 formulaic-1.0.2 interface-meta-1.3.0 lifelines-0.29.0\n"
          ]
        }
      ]
    },
    {
      "cell_type": "code",
      "execution_count": null,
      "metadata": {
        "collapsed": true,
        "id": "g_3pGCWFPCye"
      },
      "outputs": [],
      "source": [
        "import pandas as pd\n",
        "import matplotlib as plt\n",
        "import numpy as np\n",
        "from lifelines import KaplanMeierFitter\n",
        "\n",
        "df = pd.read_excel(\"mumData.xlsx\")\n",
        "\n",
        "df = df.drop(['NHSNumber', 'Surname', 'DOB', 'SACT'], axis=1)\n",
        "df\n",
        "\n",
        "obs = pd.DataFrame()\n",
        "\n"
      ]
    },
    {
      "cell_type": "code",
      "source": [
        "def progressionFree(df):\n",
        "  T = df['PFSM']\n",
        "  E = df['PFSDED']\n",
        "  kmf = KaplanMeierFitter()\n",
        "  kmf.fit(T, E)\n",
        "\n",
        "  ci = kmf.confidence_interval_survival_function_\n",
        "  ts = ci.index\n",
        "  low, high = np.transpose(ci.values)\n",
        "\n",
        "  plt.pyplot.fill_between(ts, low, high, color='lightblue', alpha=0.3)\n",
        "\n",
        "  kmf.plot(show_censors=True, ci_alpha=0, censor_styles={'marker': '|'})\n",
        "\n",
        "  plt.pyplot.xlabel('Progression Free Survival/ Months')\n",
        "  plt.pyplot.ylabel('Proportion alive')\n",
        "  plt.pyplot.ylim(0)\n",
        "  plt.pyplot.grid(True)\n",
        "  plt.pyplot.ylabel('Survival Function')\n"
      ],
      "metadata": {
        "id": "vZSlFEI9lCKH"
      },
      "execution_count": null,
      "outputs": []
    },
    {
      "cell_type": "code",
      "source": [
        "def progressionFreeSplit(df):\n",
        "\n",
        "  df1 = df[df['Factor'] == 1]\n",
        "\n",
        "  df2 = df[df['Factor'] == 2]\n",
        "\n",
        "  T1 = df1['PFSM']\n",
        "  E1 = df1['PFSDED']\n",
        "\n",
        "  T2 = df2['PFSM']\n",
        "  E2 = df2['PFSDED']\n",
        "\n",
        "  kmf1 = KaplanMeierFitter(label='Factor 1')\n",
        "  kmf2 = KaplanMeierFitter(label='Factor 2')\n",
        "\n",
        "  kmf1.fit(T1, E1)\n",
        "\n",
        "  kmf2.fit(T2, E2)\n",
        "\n",
        "  ci1 = kmf1.confidence_interval_survival_function_\n",
        "  ci2 = kmf2.confidence_interval_survival_function_\n",
        "\n",
        "  ts1 = ci1.index\n",
        "  low1, high1 = np.transpose(ci1.values)\n",
        "\n",
        "  ts2 = ci2.index\n",
        "  low2, high2 = np.transpose(ci2.values)\n",
        "\n",
        "  plt.pyplot.fill_between(ts1, low1, high1, color='lightblue', alpha=0.3)\n",
        "\n",
        "  plt.pyplot.fill_between(ts2, low2, high2, color='yellow', alpha=0.3)\n",
        "\n",
        "  kmf1.plot(show_censors=True, ci_alpha=0, censor_styles={'marker': '|'})\n",
        "  kmf2.plot(show_censors=True, ci_alpha=0, censor_styles={'marker': '|'})\n",
        "\n",
        "  plt.pyplot.xlabel('Progression Free Survival/ Months')\n",
        "  plt.pyplot.ylabel('Proportion alive')\n",
        "  plt.pyplot.ylim(0)\n",
        "  plt.pyplot.grid(True)\n",
        "  plt.pyplot.ylabel('Survival Function')"
      ],
      "metadata": {
        "id": "dY6Cb68Iky6o"
      },
      "execution_count": null,
      "outputs": []
    },
    {
      "cell_type": "code",
      "source": [
        "def overall(df):\n",
        "  T = df['OSM']\n",
        "  E = df['DED']\n",
        "  kmf = KaplanMeierFitter()\n",
        "  kmf.fit(T, E)\n",
        "\n",
        "  ci = kmf.confidence_interval_survival_function_\n",
        "  ts = ci.index\n",
        "  low, high = np.transpose(ci.values)\n",
        "\n",
        "  plt.pyplot.fill_between(ts, low, high, color='lightblue', alpha=0.3)\n",
        "\n",
        "  kmf.plot(show_censors=True, ci_alpha=0, censor_styles={'marker': '|'})\n",
        "\n",
        "  plt.pyplot.xlabel('Overall Survival/ Months')\n",
        "  plt.pyplot.ylabel('Proportion alive')\n",
        "  plt.pyplot.ylim(0)\n",
        "  plt.pyplot.grid(True)\n",
        "  plt.pyplot.ylabel('Survival Function')"
      ],
      "metadata": {
        "id": "jtv2nC2ilFKX"
      },
      "execution_count": null,
      "outputs": []
    },
    {
      "cell_type": "code",
      "source": [
        "def overallSplit(df):\n",
        "\n",
        "  df1 = df[df['Factor'] == 1]\n",
        "\n",
        "  df2 = df[df['Factor'] == 2]\n",
        "\n",
        "\n",
        "  T1 = df1['OSM']\n",
        "  E1 = df1['DED']\n",
        "\n",
        "  T2 = df2['OSM']\n",
        "  E2 = df2['DED']\n",
        "\n",
        "  kmf1 = KaplanMeierFitter(label='Factor 1')\n",
        "  kmf2 = KaplanMeierFitter(label='Factor 2')\n",
        "\n",
        "  kmf1.fit(T1, E1)\n",
        "\n",
        "  kmf2.fit(T2, E2)\n",
        "\n",
        "\n",
        "  ci1 = kmf1.confidence_interval_survival_function_\n",
        "  ci2 = kmf2.confidence_interval_survival_function_\n",
        "\n",
        "  ts1 = ci1.index\n",
        "  low1, high1 = np.transpose(ci1.values)\n",
        "\n",
        "  ts2 = ci2.index\n",
        "  low2, high2 = np.transpose(ci2.values)\n",
        "\n",
        "  plt.pyplot.fill_between(ts1, low1, high1, color='lightblue', alpha=0.3)\n",
        "\n",
        "  plt.pyplot.fill_between(ts2, low2, high2, color='yellow', alpha=0.3)\n",
        "\n",
        "  kmf1.plot(show_censors=True, ci_alpha=0, censor_styles={'marker': '|'})\n",
        "  kmf2.plot(show_censors=True, ci_alpha=0, censor_styles={'marker': '|'})\n",
        "\n",
        "  plt.pyplot.xlabel('Overall Survival/ Months')\n",
        "  plt.pyplot.ylabel('Proportion alive')\n",
        "  plt.pyplot.ylim(0)\n",
        "  plt.pyplot.grid(True)\n",
        "  plt.pyplot.ylabel('Survival Function')\n"
      ],
      "metadata": {
        "id": "iljLU7ohk1aP"
      },
      "execution_count": null,
      "outputs": []
    },
    {
      "cell_type": "code",
      "source": [
        "#Functions are as follows:\n",
        "\n",
        "#For overall survival with combined factors, enter: overall(df)\n",
        "\n",
        "#For overall survival with split factors, enter: overallSplit(df)\n",
        "\n",
        "#For progression free survival with combined factors, enter: progressionFree(df)\n",
        "\n",
        "#For progression free survival with split factors, enter: progressionFreeSplit(df)\n",
        "\n"
      ],
      "metadata": {
        "id": "KiPgGiANrlbg"
      },
      "execution_count": 73,
      "outputs": []
    },
    {
      "cell_type": "code",
      "source": [],
      "metadata": {
        "id": "i0BnZLTkrlY3",
        "colab": {
          "base_uri": "https://localhost:8080/",
          "height": 449
        },
        "outputId": "12b9e37f-5e67-47e0-b5e4-2b8650864a1f"
      },
      "execution_count": 75,
      "outputs": [
        {
          "output_type": "display_data",
          "data": {
            "text/plain": [
              "<Figure size 640x480 with 1 Axes>"
            ],
            "image/png": "[encoded data removed]"
          },
          "metadata": {}
        }
      ]
    }
  ]
}